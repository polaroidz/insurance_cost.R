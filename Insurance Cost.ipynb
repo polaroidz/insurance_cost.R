{
 "cells": [
  {
   "cell_type": "code",
   "execution_count": 97,
   "id": "9e2267df",
   "metadata": {},
   "outputs": [],
   "source": [
    "library(readr)\n",
    "library(ggplot2)\n",
    "library(dplyr)\n",
    "library(broom)"
   ]
  },
  {
   "cell_type": "code",
   "execution_count": 101,
   "id": "2c389062",
   "metadata": {},
   "outputs": [],
   "source": [
    "library(repr)"
   ]
  },
  {
   "cell_type": "code",
   "execution_count": 122,
   "id": "0094ae28",
   "metadata": {},
   "outputs": [],
   "source": [
    "#install.packages(\"gridExtra\")\n",
    "library(gridExtra)"
   ]
  },
  {
   "cell_type": "code",
   "execution_count": 81,
   "id": "cdd65909",
   "metadata": {},
   "outputs": [
    {
     "name": "stderr",
     "output_type": "stream",
     "text": [
      "Parsed with column specification:\n",
      "cols(\n",
      "  age = col_double(),\n",
      "  sex = col_character(),\n",
      "  bmi = col_double(),\n",
      "  children = col_double(),\n",
      "  smoker = col_character(),\n",
      "  region = col_character(),\n",
      "  charges = col_double()\n",
      ")\n"
     ]
    }
   ],
   "source": [
    "insurance <- read_csv(\"insurance.csv\")"
   ]
  },
  {
   "cell_type": "code",
   "execution_count": 131,
   "id": "19995c85",
   "metadata": {},
   "outputs": [],
   "source": [
    "theme_set(theme_bw())"
   ]
  },
  {
   "cell_type": "code",
   "execution_count": 83,
   "id": "d6aae7bd",
   "metadata": {},
   "outputs": [
    {
     "data": {
      "text/plain": [
       "      age            sex                 bmi           children    \n",
       " Min.   :18.00   Length:1338        Min.   :15.96   Min.   :0.000  \n",
       " 1st Qu.:27.00   Class :character   1st Qu.:26.30   1st Qu.:0.000  \n",
       " Median :39.00   Mode  :character   Median :30.40   Median :1.000  \n",
       " Mean   :39.21                      Mean   :30.66   Mean   :1.095  \n",
       " 3rd Qu.:51.00                      3rd Qu.:34.69   3rd Qu.:2.000  \n",
       " Max.   :64.00                      Max.   :53.13   Max.   :5.000  \n",
       "    smoker             region             charges     \n",
       " Length:1338        Length:1338        Min.   : 1122  \n",
       " Class :character   Class :character   1st Qu.: 4740  \n",
       " Mode  :character   Mode  :character   Median : 9382  \n",
       "                                       Mean   :13270  \n",
       "                                       3rd Qu.:16640  \n",
       "                                       Max.   :63770  "
      ]
     },
     "metadata": {},
     "output_type": "display_data"
    }
   ],
   "source": [
    "summary(insurance)"
   ]
  },
  {
   "cell_type": "code",
   "execution_count": 165,
   "id": "cf7af5f8",
   "metadata": {},
   "outputs": [
    {
     "data": {
      "image/png": "[encoded data removed]",
      "text/plain": [
       "plot without title"
      ]
     },
     "metadata": {},
     "output_type": "display_data"
    }
   ],
   "source": [
    "p1 <- ggplot(data = insurance, aes(x = charges)) +\n",
    "    geom_histogram(aes(y = ..density..),\n",
    "        col = \"white\",\n",
    "        bins = 25,\n",
    "        fill = \"#90b8c2\"\n",
    "    ) +\n",
    "    geom_density() +\n",
    "    labs(title = \"Distribuição das Cobranças\") +\n",
    "    theme(\n",
    "        axis.text.y = element_blank(),\n",
    "        axis.ticks.y = element_blank()\n",
    "    )\n",
    "\n",
    "p2 <- ggplot(data = insurance, aes(y = charges)) +\n",
    "  geom_boxplot(fill = \"#90b8c2\") +\n",
    "  ggtitle(\"Boxplot\") +\n",
    "  theme(\n",
    "    axis.ticks.x = element_blank(),\n",
    "    axis.text.x = element_blank()\n",
    "  ) +\n",
    "  geom_hline(aes(yintercept = mean(charges)),\n",
    "    linetype = \"dashed\", col = \"red\"\n",
    "  )\n",
    "\n",
    "grid.arrange(p1, p2,\n",
    "  ncol = 2, widths = c(4, 2)\n",
    ")"
   ]
  },
  {
   "cell_type": "markdown",
   "id": "ce5ae6d6",
   "metadata": {},
   "source": [
    "Os valores das cobranças estão distribuídos de forma assimétrica á direita indicando que há fatores na população que aumentam o valor da cobrança."
   ]
  },
  {
   "cell_type": "code",
   "execution_count": 170,
   "id": "0df680b0",
   "metadata": {},
   "outputs": [
    {
     "data": {
      "image/png": "[encoded data removed]",
      "text/plain": [
       "plot without title"
      ]
     },
     "metadata": {},
     "output_type": "display_data"
    }
   ],
   "source": [
    "p1 <- ggplot(data = insurance, aes(x = log(charges))) +\n",
    "    geom_histogram(aes(y = ..density..),\n",
    "        col = \"white\",\n",
    "        bins = 25,\n",
    "        fill = \"#90b8c2\"\n",
    "    ) +\n",
    "    geom_density() +\n",
    "    labs(title = \"Distribuição das Cobranças\") +\n",
    "    theme(\n",
    "        axis.text.y = element_blank(),\n",
    "        axis.ticks.y = element_blank()\n",
    "    )\n",
    "\n",
    "p2 <- ggplot(data = insurance, aes(y = log(charges))) +\n",
    "  geom_boxplot(fill = \"#90b8c2\") +\n",
    "  ggtitle(\"Boxplot\") +\n",
    "  theme(\n",
    "    axis.ticks.x = element_blank(),\n",
    "    axis.text.x = element_blank()\n",
    "  ) +\n",
    "  geom_hline(aes(yintercept = mean(log(charges))),\n",
    "    linetype = \"dashed\", col = \"red\"\n",
    "  )\n",
    "\n",
    "grid.arrange(p1, p2,\n",
    "  ncol = 2, widths = c(4, 2)\n",
    ")"
   ]
  },
  {
   "cell_type": "markdown",
   "id": "06cca933",
   "metadata": {},
   "source": [
    "Assumimos que não há outliers nos dados pois ao realizar uma trasnformação log a distribuiçõa aproximou-se da normal."
   ]
  },
  {
   "cell_type": "code",
   "execution_count": null,
   "id": "c09030b9",
   "metadata": {},
   "outputs": [],
   "source": []
  },
  {
   "cell_type": "code",
   "execution_count": null,
   "id": "009e8082",
   "metadata": {},
   "outputs": [],
   "source": []
  },
  {
   "cell_type": "code",
   "execution_count": null,
   "id": "f80951e2",
   "metadata": {},
   "outputs": [],
   "source": []
  },
  {
   "cell_type": "code",
   "execution_count": 112,
   "id": "b0613390",
   "metadata": {},
   "outputs": [
    {
     "data": {
      "image/png": "[encoded data removed]",
      "text/plain": [
       "plot without title"
      ]
     },
     "metadata": {},
     "output_type": "display_data"
    }
   ],
   "source": [
    "options(repr.plot.width=6, repr.plot.height=4)\n",
    "\n",
    "ggplot(insurance, aes(x = insurance$age, y = insurance$charges)) + \n",
    "  geom_point()"
   ]
  },
  {
   "cell_type": "markdown",
   "id": "02491321",
   "metadata": {},
   "source": [
    "Vemos claramente que há uma correlação linear entre as variáveis idade e o valor do premium. Porém, essa relação além de apresentar alta variablidade possui perfis distintos dentro da própria amostra. O que nos leva a crer que talvez existam grupos distintos na amostra."
   ]
  },
  {
   "cell_type": "code",
   "execution_count": 115,
   "id": "f01267d5",
   "metadata": {},
   "outputs": [
    {
     "data": {
      "image/png": "[encoded data removed]",
      "text/plain": [
       "plot without title"
      ]
     },
     "metadata": {},
     "output_type": "display_data"
    }
   ],
   "source": [
    "options(repr.plot.width=6, repr.plot.height=4)\n",
    "\n",
    "ggplot(insurance, aes(x = insurance$age, y = insurance$charges, colour = smoker)) + \n",
    "  geom_point() +\n",
    "  geom_smooth(method = \"lm\", se = TRUE)"
   ]
  },
  {
   "cell_type": "code",
   "execution_count": 33,
   "id": "3fe38902",
   "metadata": {},
   "outputs": [
    {
     "data": {
      "text/html": [
       "<table>\n",
       "<thead><tr><th scope=col>smoker</th><th scope=col>meanCharges</th><th scope=col>sdCharges</th><th scope=col>corrAgeCharges</th></tr></thead>\n",
       "<tbody>\n",
       "\t<tr><td>no       </td><td> 8434.268</td><td> 5993.782</td><td>0.6279468</td></tr>\n",
       "\t<tr><td>yes      </td><td>32050.232</td><td>11541.547</td><td>0.3682244</td></tr>\n",
       "</tbody>\n",
       "</table>\n"
      ],
      "text/latex": [
       "\\begin{tabular}{r|llll}\n",
       " smoker & meanCharges & sdCharges & corrAgeCharges\\\\\n",
       "\\hline\n",
       "\t no        &  8434.268 &  5993.782 & 0.6279468\\\\\n",
       "\t yes       & 32050.232 & 11541.547 & 0.3682244\\\\\n",
       "\\end{tabular}\n"
      ],
      "text/markdown": [
       "\n",
       "| smoker | meanCharges | sdCharges | corrAgeCharges |\n",
       "|---|---|---|---|\n",
       "| no        |  8434.268 |  5993.782 | 0.6279468 |\n",
       "| yes       | 32050.232 | 11541.547 | 0.3682244 |\n",
       "\n"
      ],
      "text/plain": [
       "  smoker meanCharges sdCharges corrAgeCharges\n",
       "1 no      8434.268    5993.782 0.6279468     \n",
       "2 yes    32050.232   11541.547 0.3682244     "
      ]
     },
     "metadata": {},
     "output_type": "display_data"
    }
   ],
   "source": [
    "insurance %>%\n",
    "    group_by(smoker) %>%\n",
    "    summarize(\n",
    "        meanCharges = mean(charges), \n",
    "        sdCharges = sd(charges),\n",
    "        corrAgeCharges = cor(age, charges)\n",
    "    )"
   ]
  },
  {
   "cell_type": "markdown",
   "id": "88551b65",
   "metadata": {},
   "source": [
    "Vemos que o fator `fumante` tem grande efeito de separação dentro das amostra. O que significa que vale a pena estudar a variabilidade dos grupo `fumante` uma vez que ele possui maior variabilidade.\n",
    "\n",
    "Também, vimos que há uma correlação maior entre o a idade e os custos para os `não fumantes` do que para os `fumantes`. Assim, é esperado que haja mais fatores no grupo de `fumantes` que explicam os custos."
   ]
  },
  {
   "cell_type": "code",
   "execution_count": 36,
   "id": "27ffb1d5",
   "metadata": {},
   "outputs": [],
   "source": [
    "insurance <- insurance %>%\n",
    "  mutate(\n",
    "    overweight = bmi > 25 # => acima do peso (literatura)\n",
    "  )\n",
    "\n",
    "smokers <- insurance %>% filter(smoker == \"yes\")\n",
    "nonsmokers <- insurance %>% filter(smoker == \"no\")"
   ]
  },
  {
   "cell_type": "code",
   "execution_count": 116,
   "id": "0df1973f",
   "metadata": {},
   "outputs": [
    {
     "data": {
      "image/png": "[encoded data removed]",
      "text/plain": [
       "plot without title"
      ]
     },
     "metadata": {},
     "output_type": "display_data"
    }
   ],
   "source": [
    "options(repr.plot.width=6, repr.plot.height=3)\n",
    "\n",
    "ggplot(nonsmokers, aes(x = nonsmokers$age, y = nonsmokers$charges, colour = overweight)) + \n",
    "  geom_point() +\n",
    "  geom_smooth(method = \"lm\", se = TRUE)"
   ]
  },
  {
   "cell_type": "code",
   "execution_count": 41,
   "id": "6a074351",
   "metadata": {},
   "outputs": [
    {
     "data": {
      "text/html": [
       "<table>\n",
       "<thead><tr><th scope=col>overweight</th><th scope=col>meanCharges</th><th scope=col>sdCharges</th><th scope=col>corrAgeCharges</th></tr></thead>\n",
       "<tbody>\n",
       "\t<tr><td>FALSE    </td><td>7547.184 </td><td>5708.019 </td><td>0.6088388</td></tr>\n",
       "\t<tr><td> TRUE    </td><td>8629.590 </td><td>6040.554 </td><td>0.6292556</td></tr>\n",
       "</tbody>\n",
       "</table>\n"
      ],
      "text/latex": [
       "\\begin{tabular}{r|llll}\n",
       " overweight & meanCharges & sdCharges & corrAgeCharges\\\\\n",
       "\\hline\n",
       "\t FALSE     & 7547.184  & 5708.019  & 0.6088388\\\\\n",
       "\t  TRUE     & 8629.590  & 6040.554  & 0.6292556\\\\\n",
       "\\end{tabular}\n"
      ],
      "text/markdown": [
       "\n",
       "| overweight | meanCharges | sdCharges | corrAgeCharges |\n",
       "|---|---|---|---|\n",
       "| FALSE     | 7547.184  | 5708.019  | 0.6088388 |\n",
       "|  TRUE     | 8629.590  | 6040.554  | 0.6292556 |\n",
       "\n"
      ],
      "text/plain": [
       "  overweight meanCharges sdCharges corrAgeCharges\n",
       "1 FALSE      7547.184    5708.019  0.6088388     \n",
       "2  TRUE      8629.590    6040.554  0.6292556     "
      ]
     },
     "metadata": {},
     "output_type": "display_data"
    }
   ],
   "source": [
    "nonsmokers %>%\n",
    "    group_by(overweight) %>%\n",
    "    summarize(\n",
    "        meanCharges = mean(charges), \n",
    "        sdCharges = sd(charges),\n",
    "        corrAgeCharges = cor(age, charges)\n",
    "    )"
   ]
  },
  {
   "cell_type": "markdown",
   "id": "2a2390d9",
   "metadata": {},
   "source": [
    "Pelo gráfico acima, vimos que o `sobrepeso` não parece ser um fator de separação entre os dados de foma significativa uma vez que a correlação entre os grupos é a mesma."
   ]
  },
  {
   "cell_type": "code",
   "execution_count": 117,
   "id": "a45b14a5",
   "metadata": {},
   "outputs": [
    {
     "data": {
      "image/png": "[encoded data removed]",
      "text/plain": [
       "plot without title"
      ]
     },
     "metadata": {},
     "output_type": "display_data"
    }
   ],
   "source": [
    "options(repr.plot.width=6, repr.plot.height=3)\n",
    "\n",
    "ggplot(smokers, aes(x = smokers$age, y = smokers$charges, colour = overweight)) + \n",
    "  geom_point() +\n",
    "  geom_smooth(method = \"lm\", se = TRUE)"
   ]
  },
  {
   "cell_type": "code",
   "execution_count": 38,
   "id": "faddcd85",
   "metadata": {},
   "outputs": [
    {
     "data": {
      "text/html": [
       "<table>\n",
       "<thead><tr><th scope=col>overweight</th><th scope=col>meanCharges</th><th scope=col>sdCharges</th><th scope=col>corrAgeCharges</th></tr></thead>\n",
       "<tbody>\n",
       "\t<tr><td>FALSE    </td><td>19839.28 </td><td> 4583.245</td><td>0.6702694</td></tr>\n",
       "\t<tr><td> TRUE    </td><td>35116.91 </td><td>10702.561</td><td>0.3924943</td></tr>\n",
       "</tbody>\n",
       "</table>\n"
      ],
      "text/latex": [
       "\\begin{tabular}{r|llll}\n",
       " overweight & meanCharges & sdCharges & corrAgeCharges\\\\\n",
       "\\hline\n",
       "\t FALSE     & 19839.28  &  4583.245 & 0.6702694\\\\\n",
       "\t  TRUE     & 35116.91  & 10702.561 & 0.3924943\\\\\n",
       "\\end{tabular}\n"
      ],
      "text/markdown": [
       "\n",
       "| overweight | meanCharges | sdCharges | corrAgeCharges |\n",
       "|---|---|---|---|\n",
       "| FALSE     | 19839.28  |  4583.245 | 0.6702694 |\n",
       "|  TRUE     | 35116.91  | 10702.561 | 0.3924943 |\n",
       "\n"
      ],
      "text/plain": [
       "  overweight meanCharges sdCharges corrAgeCharges\n",
       "1 FALSE      19839.28     4583.245 0.6702694     \n",
       "2  TRUE      35116.91    10702.561 0.3924943     "
      ]
     },
     "metadata": {},
     "output_type": "display_data"
    }
   ],
   "source": [
    "smokers %>%\n",
    "    group_by(overweight) %>%\n",
    "    summarize(\n",
    "        meanCharges = mean(charges), \n",
    "        sdCharges = sd(charges),\n",
    "        corrAgeCharges = cor(age, charges)\n",
    "    )"
   ]
  },
  {
   "cell_type": "markdown",
   "id": "0e92024c",
   "metadata": {},
   "source": [
    "Assumindo que o `sobrepeso` é um fator discriminatório no grupo dos `fumantes`. Então, ao observamos que a correlação no grupo `fumantes sem sobrepeso` é maior."
   ]
  },
  {
   "cell_type": "code",
   "execution_count": 57,
   "id": "a6d715d8",
   "metadata": {},
   "outputs": [
    {
     "data": {
      "text/plain": [
       "\n",
       "Call:\n",
       "lm(formula = charges ~ age, data = insurance)\n",
       "\n",
       "Residuals:\n",
       "   Min     1Q Median     3Q    Max \n",
       " -8059  -6671  -5939   5440  47829 \n",
       "\n",
       "Coefficients:\n",
       "            Estimate Std. Error t value Pr(>|t|)    \n",
       "(Intercept)   3165.9      937.1   3.378 0.000751 ***\n",
       "age            257.7       22.5  11.453  < 2e-16 ***\n",
       "---\n",
       "Signif. codes:  0 '***' 0.001 '**' 0.01 '*' 0.05 '.' 0.1 ' ' 1\n",
       "\n",
       "Residual standard error: 11560 on 1336 degrees of freedom\n",
       "Multiple R-squared:  0.08941,\tAdjusted R-squared:  0.08872 \n",
       "F-statistic: 131.2 on 1 and 1336 DF,  p-value: < 2.2e-16\n"
      ]
     },
     "metadata": {},
     "output_type": "display_data"
    }
   ],
   "source": [
    "mdl_charges <- lm(charges ~ age, data = insurance)\n",
    "summary(mdl_charges)"
   ]
  },
  {
   "cell_type": "code",
   "execution_count": 49,
   "id": "7230f91d",
   "metadata": {},
   "outputs": [
    {
     "data": {
      "text/html": [
       "<table>\n",
       "<thead><tr><th scope=col>r.squared</th><th scope=col>adj.r.squared</th><th scope=col>sigma</th><th scope=col>statistic</th><th scope=col>p.value</th><th scope=col>df</th><th scope=col>logLik</th><th scope=col>AIC</th><th scope=col>BIC</th><th scope=col>deviance</th><th scope=col>df.residual</th></tr></thead>\n",
       "<tbody>\n",
       "\t<tr><td>0.0894059   </td><td>0.08872432  </td><td>11560.31    </td><td>131.174     </td><td>4.886693e-29</td><td>2           </td><td>-14414.97   </td><td>28835.95    </td><td>28851.55    </td><td>1.78544e+11 </td><td>1336        </td></tr>\n",
       "</tbody>\n",
       "</table>\n"
      ],
      "text/latex": [
       "\\begin{tabular}{r|lllllllllll}\n",
       " r.squared & adj.r.squared & sigma & statistic & p.value & df & logLik & AIC & BIC & deviance & df.residual\\\\\n",
       "\\hline\n",
       "\t 0.0894059    & 0.08872432   & 11560.31     & 131.174      & 4.886693e-29 & 2            & -14414.97    & 28835.95     & 28851.55     & 1.78544e+11  & 1336        \\\\\n",
       "\\end{tabular}\n"
      ],
      "text/markdown": [
       "\n",
       "| r.squared | adj.r.squared | sigma | statistic | p.value | df | logLik | AIC | BIC | deviance | df.residual |\n",
       "|---|---|---|---|---|---|---|---|---|---|---|\n",
       "| 0.0894059    | 0.08872432   | 11560.31     | 131.174      | 4.886693e-29 | 2            | -14414.97    | 28835.95     | 28851.55     | 1.78544e+11  | 1336         |\n",
       "\n"
      ],
      "text/plain": [
       "  r.squared adj.r.squared sigma    statistic p.value      df logLik    AIC     \n",
       "1 0.0894059 0.08872432    11560.31 131.174   4.886693e-29 2  -14414.97 28835.95\n",
       "  BIC      deviance    df.residual\n",
       "1 28851.55 1.78544e+11 1336       "
      ]
     },
     "metadata": {},
     "output_type": "display_data"
    }
   ],
   "source": [
    "glance(mdl_charges)"
   ]
  },
  {
   "cell_type": "code",
   "execution_count": 56,
   "id": "05877ae6",
   "metadata": {},
   "outputs": [
    {
     "data": {
      "text/plain": [
       "\n",
       "Call:\n",
       "lm(formula = charges ~ age + smoker, data = insurance)\n",
       "\n",
       "Residuals:\n",
       "     Min       1Q   Median       3Q      Max \n",
       "-16088.1  -2046.8  -1336.4   -212.7  28760.0 \n",
       "\n",
       "Coefficients:\n",
       "            Estimate Std. Error t value Pr(>|t|)    \n",
       "(Intercept) -2391.63     528.30  -4.527 6.52e-06 ***\n",
       "age           274.87      12.46  22.069  < 2e-16 ***\n",
       "smokeryes   23855.30     433.49  55.031  < 2e-16 ***\n",
       "---\n",
       "Signif. codes:  0 '***' 0.001 '**' 0.01 '*' 0.05 '.' 0.1 ' ' 1\n",
       "\n",
       "Residual standard error: 6397 on 1335 degrees of freedom\n",
       "Multiple R-squared:  0.7214,\tAdjusted R-squared:  0.721 \n",
       "F-statistic:  1728 on 2 and 1335 DF,  p-value: < 2.2e-16\n"
      ]
     },
     "metadata": {},
     "output_type": "display_data"
    }
   ],
   "source": [
    "mdl_charges_smoker <- lm(charges ~ age + smoker, data = insurance)\n",
    "summary(mdl_charges_smoker)"
   ]
  },
  {
   "cell_type": "code",
   "execution_count": 50,
   "id": "81a5404f",
   "metadata": {},
   "outputs": [
    {
     "data": {
      "text/html": [
       "<table>\n",
       "<thead><tr><th scope=col>r.squared</th><th scope=col>adj.r.squared</th><th scope=col>sigma</th><th scope=col>statistic</th><th scope=col>p.value</th><th scope=col>df</th><th scope=col>logLik</th><th scope=col>AIC</th><th scope=col>BIC</th><th scope=col>deviance</th><th scope=col>df.residual</th></tr></thead>\n",
       "<tbody>\n",
       "\t<tr><td>0.7214008  </td><td>0.7209834  </td><td>6396.752   </td><td>1728.415   </td><td>0          </td><td>3          </td><td>-13622.66  </td><td>27253.32   </td><td>27274.12   </td><td>54626116160</td><td>1335       </td></tr>\n",
       "</tbody>\n",
       "</table>\n"
      ],
      "text/latex": [
       "\\begin{tabular}{r|lllllllllll}\n",
       " r.squared & adj.r.squared & sigma & statistic & p.value & df & logLik & AIC & BIC & deviance & df.residual\\\\\n",
       "\\hline\n",
       "\t 0.7214008   & 0.7209834   & 6396.752    & 1728.415    & 0           & 3           & -13622.66   & 27253.32    & 27274.12    & 54626116160 & 1335       \\\\\n",
       "\\end{tabular}\n"
      ],
      "text/markdown": [
       "\n",
       "| r.squared | adj.r.squared | sigma | statistic | p.value | df | logLik | AIC | BIC | deviance | df.residual |\n",
       "|---|---|---|---|---|---|---|---|---|---|---|\n",
       "| 0.7214008   | 0.7209834   | 6396.752    | 1728.415    | 0           | 3           | -13622.66   | 27253.32    | 27274.12    | 54626116160 | 1335        |\n",
       "\n"
      ],
      "text/plain": [
       "  r.squared adj.r.squared sigma    statistic p.value df logLik    AIC     \n",
       "1 0.7214008 0.7209834     6396.752 1728.415  0       3  -13622.66 27253.32\n",
       "  BIC      deviance    df.residual\n",
       "1 27274.12 54626116160 1335       "
      ]
     },
     "metadata": {},
     "output_type": "display_data"
    }
   ],
   "source": [
    "glance(mdl_charges_smoker)"
   ]
  },
  {
   "cell_type": "code",
   "execution_count": 55,
   "id": "bbf84dca",
   "metadata": {},
   "outputs": [
    {
     "data": {
      "text/plain": [
       "\n",
       "Call:\n",
       "lm(formula = charges ~ age + smoker + overweight, data = insurance)\n",
       "\n",
       "Residuals:\n",
       "   Min     1Q Median     3Q    Max \n",
       "-13451  -2581  -1655   1390  28150 \n",
       "\n",
       "Coefficients:\n",
       "               Estimate Std. Error t value Pr(>|t|)    \n",
       "(Intercept)    -4773.51     608.63  -7.843 8.95e-15 ***\n",
       "age              266.57      12.26  21.744  < 2e-16 ***\n",
       "smokeryes      23915.10     424.98  56.273  < 2e-16 ***\n",
       "overweightTRUE  3305.17     443.75   7.448 1.69e-13 ***\n",
       "---\n",
       "Signif. codes:  0 '***' 0.001 '**' 0.01 '*' 0.05 '.' 0.1 ' ' 1\n",
       "\n",
       "Residual standard error: 6270 on 1334 degrees of freedom\n",
       "Multiple R-squared:  0.7325,\tAdjusted R-squared:  0.7319 \n",
       "F-statistic:  1218 on 3 and 1334 DF,  p-value: < 2.2e-16\n"
      ]
     },
     "metadata": {},
     "output_type": "display_data"
    }
   ],
   "source": [
    "mdl_charges_full <- lm(charges ~ age + smoker + overweight, data = insurance)\n",
    "summary(mdl_charges_full)"
   ]
  },
  {
   "cell_type": "markdown",
   "id": "796f105e",
   "metadata": {},
   "source": [
    "Dado um `Residual Standard Error = 6270`, é esperado que o valor real do premium para um determinado paciente esteja errado por $6.270,00."
   ]
  },
  {
   "cell_type": "markdown",
   "id": "daddc10c",
   "metadata": {},
   "source": [
    "De acordo como o `Adjusted R-squared`, o modelo explica 73,19% da variabilidade encontrada nos dados. Dessa forma, podemos afirmar que o modelo é..."
   ]
  },
  {
   "cell_type": "code",
   "execution_count": 51,
   "id": "79565f65",
   "metadata": {},
   "outputs": [
    {
     "data": {
      "text/html": [
       "<table>\n",
       "<thead><tr><th scope=col>r.squared</th><th scope=col>adj.r.squared</th><th scope=col>sigma</th><th scope=col>statistic</th><th scope=col>p.value</th><th scope=col>df</th><th scope=col>logLik</th><th scope=col>AIC</th><th scope=col>BIC</th><th scope=col>deviance</th><th scope=col>df.residual</th></tr></thead>\n",
       "<tbody>\n",
       "\t<tr><td>0.7325242  </td><td>0.7319227  </td><td>6270.101   </td><td>1217.789   </td><td>0          </td><td>4          </td><td>-13595.4   </td><td>27200.81   </td><td>27226.8    </td><td>52445102353</td><td>1334       </td></tr>\n",
       "</tbody>\n",
       "</table>\n"
      ],
      "text/latex": [
       "\\begin{tabular}{r|lllllllllll}\n",
       " r.squared & adj.r.squared & sigma & statistic & p.value & df & logLik & AIC & BIC & deviance & df.residual\\\\\n",
       "\\hline\n",
       "\t 0.7325242   & 0.7319227   & 6270.101    & 1217.789    & 0           & 4           & -13595.4    & 27200.81    & 27226.8     & 52445102353 & 1334       \\\\\n",
       "\\end{tabular}\n"
      ],
      "text/markdown": [
       "\n",
       "| r.squared | adj.r.squared | sigma | statistic | p.value | df | logLik | AIC | BIC | deviance | df.residual |\n",
       "|---|---|---|---|---|---|---|---|---|---|---|\n",
       "| 0.7325242   | 0.7319227   | 6270.101    | 1217.789    | 0           | 4           | -13595.4    | 27200.81    | 27226.8     | 52445102353 | 1334        |\n",
       "\n"
      ],
      "text/plain": [
       "  r.squared adj.r.squared sigma    statistic p.value df logLik   AIC     \n",
       "1 0.7325242 0.7319227     6270.101 1217.789  0       4  -13595.4 27200.81\n",
       "  BIC     deviance    df.residual\n",
       "1 27226.8 52445102353 1334       "
      ]
     },
     "metadata": {},
     "output_type": "display_data"
    }
   ],
   "source": [
    "glance(mdl_charges_full)"
   ]
  },
  {
   "cell_type": "code",
   "execution_count": 52,
   "id": "0fc59d9e",
   "metadata": {},
   "outputs": [
    {
     "data": {
      "text/html": [
       "<table>\n",
       "<thead><tr><th scope=col>term</th><th scope=col>estimate</th><th scope=col>std.error</th><th scope=col>statistic</th><th scope=col>p.value</th></tr></thead>\n",
       "<tbody>\n",
       "\t<tr><td>(Intercept)   </td><td>-4773.5144    </td><td>608.62711     </td><td>-7.843085     </td><td>8.945553e-15  </td></tr>\n",
       "\t<tr><td>age           </td><td>  266.5721    </td><td> 12.25945     </td><td>21.744215     </td><td>5.593085e-90  </td></tr>\n",
       "\t<tr><td>smokeryes     </td><td>23915.1034    </td><td>424.98147     </td><td>56.273286     </td><td>0.000000e+00  </td></tr>\n",
       "\t<tr><td>overweightTRUE</td><td> 3305.1735    </td><td>443.75126     </td><td> 7.448257     </td><td>1.691748e-13  </td></tr>\n",
       "</tbody>\n",
       "</table>\n"
      ],
      "text/latex": [
       "\\begin{tabular}{r|lllll}\n",
       " term & estimate & std.error & statistic & p.value\\\\\n",
       "\\hline\n",
       "\t (Intercept)    & -4773.5144     & 608.62711      & -7.843085      & 8.945553e-15  \\\\\n",
       "\t age            &   266.5721     &  12.25945      & 21.744215      & 5.593085e-90  \\\\\n",
       "\t smokeryes      & 23915.1034     & 424.98147      & 56.273286      & 0.000000e+00  \\\\\n",
       "\t overweightTRUE &  3305.1735     & 443.75126      &  7.448257      & 1.691748e-13  \\\\\n",
       "\\end{tabular}\n"
      ],
      "text/markdown": [
       "\n",
       "| term | estimate | std.error | statistic | p.value |\n",
       "|---|---|---|---|---|\n",
       "| (Intercept)    | -4773.5144     | 608.62711      | -7.843085      | 8.945553e-15   |\n",
       "| age            |   266.5721     |  12.25945      | 21.744215      | 5.593085e-90   |\n",
       "| smokeryes      | 23915.1034     | 424.98147      | 56.273286      | 0.000000e+00   |\n",
       "| overweightTRUE |  3305.1735     | 443.75126      |  7.448257      | 1.691748e-13   |\n",
       "\n"
      ],
      "text/plain": [
       "  term           estimate   std.error statistic p.value     \n",
       "1 (Intercept)    -4773.5144 608.62711 -7.843085 8.945553e-15\n",
       "2 age              266.5721  12.25945 21.744215 5.593085e-90\n",
       "3 smokeryes      23915.1034 424.98147 56.273286 0.000000e+00\n",
       "4 overweightTRUE  3305.1735 443.75126  7.448257 1.691748e-13"
      ]
     },
     "metadata": {},
     "output_type": "display_data"
    }
   ],
   "source": [
    "tidy(mdl_charges_full)"
   ]
  },
  {
   "cell_type": "code",
   "execution_count": null,
   "id": "1a8b6a3f",
   "metadata": {},
   "outputs": [],
   "source": []
  }
 ],
 "metadata": {
  "kernelspec": {
   "display_name": "R",
   "language": "R",
   "name": "ir"
  },
  "language_info": {
   "codemirror_mode": "r",
   "file_extension": ".r",
   "mimetype": "text/x-r-source",
   "name": "R",
   "pygments_lexer": "r",
   "version": "3.6.1"
  }
 },
 "nbformat": 4,
 "nbformat_minor": 5
}
